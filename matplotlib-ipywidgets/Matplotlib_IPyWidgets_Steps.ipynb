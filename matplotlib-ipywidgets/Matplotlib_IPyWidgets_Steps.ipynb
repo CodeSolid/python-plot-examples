{
 "cells": [
  {
   "cell_type": "markdown",
   "id": "74c2b3eb-4035-4026-a18f-7d8d0246dfaf",
   "metadata": {},
   "source": [
    "# Interactive Plot - Matplotlib and IPywidgets\n",
    "\n",
    "This is the step by step code for the article [Creating a Python Interactive Plot Using Matplotlib in Jupyter](https://codesolid.com/creating-a-python-interactive-plot/). See also the consolidated version in this directory."
   ]
  },
  {
   "cell_type": "markdown",
   "id": "0de62d17-b6b6-42c1-a481-60ca0ef7efaa",
   "metadata": {},
   "source": [
    "%matplotlib widget\n",
    "\n",
    "import numpy as np\n",
    "from math import acos, pi\n",
    "import matplotlib.pyplot as plt\n",
    "    \n",
    "vector_1 = [3,4]\n",
    "vector_2 = [1,3]\n",
    "\n",
    "\n",
    "def vector_angle(vector1, vector2):\n",
    "    \"\"\"Compute the angle between the two vectors\"\"\"\n",
    "    norm1 = np.linalg.norm(vector1)\n",
    "    norm2 = np.linalg.norm(vector2)\n",
    "    \n",
    "    # Prevent divide by zero\n",
    "    if norm1 == 0 or norm2 == 0:\n",
    "        return 0\n",
    "    \n",
    "    # From the formula for angle between vectors, c.f.\n",
    "    # https://www.cuemath.com/geometry/angle-between-vectors/\n",
    "    cos_of_angle = np.dot(vector1, vector2) / (norm1 * norm2)\n",
    "    \n",
    "    # Make sure the cosine is in range -1 <= cos(angle) <= 1 \n",
    "    if cos_of_angle > 1:\n",
    "        cos_of_angle = 1\n",
    "    elif cos_of_angle < -1:\n",
    "        cos_of_angle = -1\n",
    "    \n",
    "    radians = acos(cos_of_angle)\n",
    "    return round(radians * 180/pi, 1)\n",
    "\n",
    "def get_title(vector1, vector2):\n",
    "    return f\"Vectors dot product: {np.dot(vector1, vector2)}, Angle: {vector_angle(vector1, vector2)} degrees.\"\n",
    "\n",
    "def get_label(which_vector, vector):\n",
    "    \"\"\"Labels a vector with its name and vector head coordinates\"\"\"\n",
    "    return f\"{which_vector} {vector}\"\n",
    "\n",
    "def plot_line(vector, label):    \n",
    "    \"\"\"Plots a vector in standard position\"\"\"\n",
    "    line = plt.plot([0,vector[0]], [0, vector[1]], label=label, lw=2)[0]\n",
    "      # Draw as an arrow, as vectors are generally drawn    \n",
    "    line.axes.annotate('',\n",
    "        xytext=(0, 0),\n",
    "        xy=(vector[0], vector[1]),       \n",
    "        arrowprops=dict(color=line.get_color(), arrowstyle=\"simple\"),\n",
    "        size=10\n",
    "    )\n",
    "    \n",
    "    return line\n",
    "\n",
    "def configure_graph_grid():\n",
    "    \"\"\"Set up a square grid axis\"\"\"\n",
    "    \n",
    "    # Size\n",
    "    grid_min = -6\n",
    "    grid_max = 6\n",
    "    \n",
    "    # Make it square and set limits\n",
    "    plt.axis('square')\n",
    "    plt.axis(( grid_min, grid_max, grid_min, grid_max))\n",
    "    \n",
    "    # Plot x and y axes\n",
    "    plt.plot([grid_min, grid_max], [0,0], linestyle=\"--\", color=\".3\")\n",
    "    plt.plot([0,0],[grid_min, grid_max], linestyle=\"--\", color=\".3\")\n",
    "    plt.grid()\n",
    "\n",
    "# Display the grid and the vectors\n",
    "figure = plt.figure()\n",
    "configure_graph_grid()\n",
    "line_1 = plot_line(vector_1, get_label(\"Vector 1\", vector_1))\n",
    "line_2 = plot_line(vector_2, get_label(\"Vector 2\", vector_2))\n",
    "plt.legend()\n",
    "plt.title(get_title(vector_1, vector_2))\n",
    "plt.show()"
   ]
  },
  {
   "cell_type": "code",
   "execution_count": 7,
   "id": "1e9aae9d-0fa6-47a1-ab6c-71953ea62e78",
   "metadata": {},
   "outputs": [
    {
     "data": {
      "application/vnd.jupyter.widget-view+json": {
       "model_id": "8b0cd3d85ffc4466bddc6ecf8dea371e",
       "version_major": 2,
       "version_minor": 0
      },
      "text/plain": [
       "interactive(children=(IntSlider(value=3, description='v1_x', max=6, min=-6), IntSlider(value=4, description='v…"
      ]
     },
     "metadata": {},
     "output_type": "display_data"
    }
   ],
   "source": [
    "from IPython.display import display\n",
    "from ipywidgets import interactive\n",
    "import ipywidgets as widgets\n",
    "\n",
    "def do_update(v1, v2):\n",
    "    \"\"\"Based on the new control state, update the interactive plot.\n",
    "    \n",
    "       The approach here is to clear and redraw the whole plot rather than simply to update \n",
    "       the lines. Simply setting new x and y data for the lines works in the line case, but \n",
    "       doesn't because we're drawing them as arrows.\n",
    "       \n",
    "    \"\"\"\n",
    "    figure.clf()\n",
    "    configure_graph_grid()\n",
    "    line_1 = plot_line(v1, get_label(\"Vector 1\", v1))\n",
    "    line_2 = plot_line(v2, get_label(\"Vector 2\", v2))\n",
    "    plt.legend()\n",
    "    plt.title(get_title(v1, v2))\n",
    "    plt.draw()\n",
    "    plt.legend()\n",
    "\n",
    "def handle_event(v1_x, v1_y, v2_x, v2_y):\n",
    "    \"\"\"Process events from the ipywidgets.interactive handler.\n",
    "       \n",
    "       Argument names in the event handler must match the keys in the \"interactive\" call (below).       \n",
    "    \"\"\"\n",
    "    \n",
    "    # Repack the x and y coordinates into two vectors, and call do_update to process the change.\n",
    "    vector1 = [v1_x, v1_y]\n",
    "    vector2 = [v2_x, v2_y]\n",
    " \n",
    "    do_update(vector1, vector2) \n",
    "    \n",
    "def slider_config(value):\n",
    "    \"\"\"Return an IntSlider widget with the common configuration\"\"\"\n",
    "    return widgets.IntSlider(min=-6, max=6, step=1, value=value)\n",
    "\n",
    "# Make the slider controls interactive, and display them\n",
    "slider_controls = interactive(handle_event, \n",
    "                 v1_x=slider_config(vector_1[0]), \n",
    "                 v1_y=slider_config(vector_1[1]),\n",
    "                 v2_x=slider_config(vector_2[0]), \n",
    "                 v2_y=slider_config(vector_2[1]))\n",
    "display(slider_controls)\n",
    "\n"
   ]
  },
  {
   "cell_type": "code",
   "execution_count": null,
   "id": "602efbfb-0bd9-453a-a0d2-e4003b1e10d3",
   "metadata": {},
   "outputs": [],
   "source": []
  }
 ],
 "metadata": {
  "kernelspec": {
   "display_name": "Python 3 (ipykernel)",
   "language": "python",
   "name": "python3"
  },
  "language_info": {
   "codemirror_mode": {
    "name": "ipython",
    "version": 3
   },
   "file_extension": ".py",
   "mimetype": "text/x-python",
   "name": "python",
   "nbconvert_exporter": "python",
   "pygments_lexer": "ipython3",
   "version": "3.11.0b5"
  },
  "vscode": {
   "interpreter": {
    "hash": "985e7e32deb97569d5522a228ba14fa3725eca3280885d8c9e3d02a4753b81d8"
   }
  }
 },
 "nbformat": 4,
 "nbformat_minor": 5
}
